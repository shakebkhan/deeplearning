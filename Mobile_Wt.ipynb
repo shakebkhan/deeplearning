{
  "nbformat": 4,
  "nbformat_minor": 0,
  "metadata": {
    "colab": {
      "provenance": []
    },
    "kernelspec": {
      "name": "python3",
      "display_name": "Python 3"
    },
    "language_info": {
      "name": "python"
    }
  },
  "cells": [
    {
      "cell_type": "code",
      "execution_count": 2,
      "metadata": {
        "id": "cUbiiZ8vXt12"
      },
      "outputs": [],
      "source": [
        "# 1.0 Call libraries\n",
        "import pandas as pd\n",
        "import numpy as np\n",
        "from  pathlib import Path"
      ]
    },
    {
      "cell_type": "code",
      "source": [
        "# 1.0.1\n",
        "import tensorflow as tf\n",
        "from tensorflow import keras\n",
        "from tensorflow.keras import layers"
      ],
      "metadata": {
        "id": "leAI9o52Yf_U"
      },
      "execution_count": 3,
      "outputs": []
    },
    {
      "cell_type": "code",
      "source": [
        "# 1.1 Display multiple commands output from a cell\n",
        "from IPython.core.interactiveshell import InteractiveShell\n",
        "InteractiveShell.ast_node_interactivity = \"all\""
      ],
      "metadata": {
        "id": "AypGqycRYphu"
      },
      "execution_count": 4,
      "outputs": []
    },
    {
      "cell_type": "code",
      "source": [
        "# 2.0\n",
        "from google.colab import drive\n",
        "drive.mount('/gdrive')"
      ],
      "metadata": {
        "colab": {
          "base_uri": "https://localhost:8080/"
        },
        "id": "1n0TL4buYwXe",
        "outputId": "eb6c9245-3dfb-44fd-d9ee-1e60bf7413a0"
      },
      "execution_count": 5,
      "outputs": [
        {
          "output_type": "stream",
          "name": "stdout",
          "text": [
            "Mounted at /gdrive\n"
          ]
        }
      ]
    },
    {
      "cell_type": "code",
      "source": [
        "# 2.1 Where is our data file:\n",
        "pathToFolder = \"/gdrive/MyDrive/deeplearning\""
      ],
      "metadata": {
        "id": "qbIMvEsXYzW-"
      },
      "execution_count": 6,
      "outputs": []
    },
    {
      "cell_type": "code",
      "source": [
        "# 2.2 Full file path:\n",
        "path = Path(pathToFolder) / \"mobile_price.csv\""
      ],
      "metadata": {
        "id": "9_pUxd2RZMiE"
      },
      "execution_count": 7,
      "outputs": []
    },
    {
      "cell_type": "code",
      "source": [
        "# 3.0 Read data\n",
        "mobile_price = pd.read_csv(path)\n",
        "mobile_price.head()"
      ],
      "metadata": {
        "colab": {
          "base_uri": "https://localhost:8080/",
          "height": 299
        },
        "id": "gmAWXqNkZPSX",
        "outputId": "5ce36f8f-cd96-4884-88aa-e9b89f66215f"
      },
      "execution_count": 8,
      "outputs": [
        {
          "output_type": "execute_result",
          "data": {
            "text/plain": [
              "   battery_power  blue  clock_speed  dual_sim  fc  four_g  int_memory  m_dep  \\\n",
              "0            842     0          2.2         0   1       0           7    0.6   \n",
              "1           1021     1          0.5         1   0       1          53    0.7   \n",
              "2            563     1          0.5         1   2       1          41    0.9   \n",
              "3            615     1          2.5         0   0       0          10    0.8   \n",
              "4           1821     1          1.2         0  13       1          44    0.6   \n",
              "\n",
              "   mobile_wt  n_cores  ...  px_height  px_width   ram  sc_h  sc_w  talk_time  \\\n",
              "0        188        2  ...         20       756  2549     9     7         19   \n",
              "1        136        3  ...        905      1988  2631    17     3          7   \n",
              "2        145        5  ...       1263      1716  2603    11     2          9   \n",
              "3        131        6  ...       1216      1786  2769    16     8         11   \n",
              "4        141        2  ...       1208      1212  1411     8     2         15   \n",
              "\n",
              "   three_g  touch_screen  wifi  price_range  \n",
              "0        0             0     1            1  \n",
              "1        1             1     0            2  \n",
              "2        1             1     0            2  \n",
              "3        1             0     0            2  \n",
              "4        1             1     0            1  \n",
              "\n",
              "[5 rows x 21 columns]"
            ],
            "text/html": [
              "\n",
              "\n",
              "  <div id=\"df-8746eebe-24f5-46d9-b8ca-d6ba97e3e37d\">\n",
              "    <div class=\"colab-df-container\">\n",
              "      <div>\n",
              "<style scoped>\n",
              "    .dataframe tbody tr th:only-of-type {\n",
              "        vertical-align: middle;\n",
              "    }\n",
              "\n",
              "    .dataframe tbody tr th {\n",
              "        vertical-align: top;\n",
              "    }\n",
              "\n",
              "    .dataframe thead th {\n",
              "        text-align: right;\n",
              "    }\n",
              "</style>\n",
              "<table border=\"1\" class=\"dataframe\">\n",
              "  <thead>\n",
              "    <tr style=\"text-align: right;\">\n",
              "      <th></th>\n",
              "      <th>battery_power</th>\n",
              "      <th>blue</th>\n",
              "      <th>clock_speed</th>\n",
              "      <th>dual_sim</th>\n",
              "      <th>fc</th>\n",
              "      <th>four_g</th>\n",
              "      <th>int_memory</th>\n",
              "      <th>m_dep</th>\n",
              "      <th>mobile_wt</th>\n",
              "      <th>n_cores</th>\n",
              "      <th>...</th>\n",
              "      <th>px_height</th>\n",
              "      <th>px_width</th>\n",
              "      <th>ram</th>\n",
              "      <th>sc_h</th>\n",
              "      <th>sc_w</th>\n",
              "      <th>talk_time</th>\n",
              "      <th>three_g</th>\n",
              "      <th>touch_screen</th>\n",
              "      <th>wifi</th>\n",
              "      <th>price_range</th>\n",
              "    </tr>\n",
              "  </thead>\n",
              "  <tbody>\n",
              "    <tr>\n",
              "      <th>0</th>\n",
              "      <td>842</td>\n",
              "      <td>0</td>\n",
              "      <td>2.2</td>\n",
              "      <td>0</td>\n",
              "      <td>1</td>\n",
              "      <td>0</td>\n",
              "      <td>7</td>\n",
              "      <td>0.6</td>\n",
              "      <td>188</td>\n",
              "      <td>2</td>\n",
              "      <td>...</td>\n",
              "      <td>20</td>\n",
              "      <td>756</td>\n",
              "      <td>2549</td>\n",
              "      <td>9</td>\n",
              "      <td>7</td>\n",
              "      <td>19</td>\n",
              "      <td>0</td>\n",
              "      <td>0</td>\n",
              "      <td>1</td>\n",
              "      <td>1</td>\n",
              "    </tr>\n",
              "    <tr>\n",
              "      <th>1</th>\n",
              "      <td>1021</td>\n",
              "      <td>1</td>\n",
              "      <td>0.5</td>\n",
              "      <td>1</td>\n",
              "      <td>0</td>\n",
              "      <td>1</td>\n",
              "      <td>53</td>\n",
              "      <td>0.7</td>\n",
              "      <td>136</td>\n",
              "      <td>3</td>\n",
              "      <td>...</td>\n",
              "      <td>905</td>\n",
              "      <td>1988</td>\n",
              "      <td>2631</td>\n",
              "      <td>17</td>\n",
              "      <td>3</td>\n",
              "      <td>7</td>\n",
              "      <td>1</td>\n",
              "      <td>1</td>\n",
              "      <td>0</td>\n",
              "      <td>2</td>\n",
              "    </tr>\n",
              "    <tr>\n",
              "      <th>2</th>\n",
              "      <td>563</td>\n",
              "      <td>1</td>\n",
              "      <td>0.5</td>\n",
              "      <td>1</td>\n",
              "      <td>2</td>\n",
              "      <td>1</td>\n",
              "      <td>41</td>\n",
              "      <td>0.9</td>\n",
              "      <td>145</td>\n",
              "      <td>5</td>\n",
              "      <td>...</td>\n",
              "      <td>1263</td>\n",
              "      <td>1716</td>\n",
              "      <td>2603</td>\n",
              "      <td>11</td>\n",
              "      <td>2</td>\n",
              "      <td>9</td>\n",
              "      <td>1</td>\n",
              "      <td>1</td>\n",
              "      <td>0</td>\n",
              "      <td>2</td>\n",
              "    </tr>\n",
              "    <tr>\n",
              "      <th>3</th>\n",
              "      <td>615</td>\n",
              "      <td>1</td>\n",
              "      <td>2.5</td>\n",
              "      <td>0</td>\n",
              "      <td>0</td>\n",
              "      <td>0</td>\n",
              "      <td>10</td>\n",
              "      <td>0.8</td>\n",
              "      <td>131</td>\n",
              "      <td>6</td>\n",
              "      <td>...</td>\n",
              "      <td>1216</td>\n",
              "      <td>1786</td>\n",
              "      <td>2769</td>\n",
              "      <td>16</td>\n",
              "      <td>8</td>\n",
              "      <td>11</td>\n",
              "      <td>1</td>\n",
              "      <td>0</td>\n",
              "      <td>0</td>\n",
              "      <td>2</td>\n",
              "    </tr>\n",
              "    <tr>\n",
              "      <th>4</th>\n",
              "      <td>1821</td>\n",
              "      <td>1</td>\n",
              "      <td>1.2</td>\n",
              "      <td>0</td>\n",
              "      <td>13</td>\n",
              "      <td>1</td>\n",
              "      <td>44</td>\n",
              "      <td>0.6</td>\n",
              "      <td>141</td>\n",
              "      <td>2</td>\n",
              "      <td>...</td>\n",
              "      <td>1208</td>\n",
              "      <td>1212</td>\n",
              "      <td>1411</td>\n",
              "      <td>8</td>\n",
              "      <td>2</td>\n",
              "      <td>15</td>\n",
              "      <td>1</td>\n",
              "      <td>1</td>\n",
              "      <td>0</td>\n",
              "      <td>1</td>\n",
              "    </tr>\n",
              "  </tbody>\n",
              "</table>\n",
              "<p>5 rows × 21 columns</p>\n",
              "</div>\n",
              "      <button class=\"colab-df-convert\" onclick=\"convertToInteractive('df-8746eebe-24f5-46d9-b8ca-d6ba97e3e37d')\"\n",
              "              title=\"Convert this dataframe to an interactive table.\"\n",
              "              style=\"display:none;\">\n",
              "\n",
              "  <svg xmlns=\"http://www.w3.org/2000/svg\" height=\"24px\"viewBox=\"0 0 24 24\"\n",
              "       width=\"24px\">\n",
              "    <path d=\"M0 0h24v24H0V0z\" fill=\"none\"/>\n",
              "    <path d=\"M18.56 5.44l.94 2.06.94-2.06 2.06-.94-2.06-.94-.94-2.06-.94 2.06-2.06.94zm-11 1L8.5 8.5l.94-2.06 2.06-.94-2.06-.94L8.5 2.5l-.94 2.06-2.06.94zm10 10l.94 2.06.94-2.06 2.06-.94-2.06-.94-.94-2.06-.94 2.06-2.06.94z\"/><path d=\"M17.41 7.96l-1.37-1.37c-.4-.4-.92-.59-1.43-.59-.52 0-1.04.2-1.43.59L10.3 9.45l-7.72 7.72c-.78.78-.78 2.05 0 2.83L4 21.41c.39.39.9.59 1.41.59.51 0 1.02-.2 1.41-.59l7.78-7.78 2.81-2.81c.8-.78.8-2.07 0-2.86zM5.41 20L4 18.59l7.72-7.72 1.47 1.35L5.41 20z\"/>\n",
              "  </svg>\n",
              "      </button>\n",
              "\n",
              "\n",
              "\n",
              "    <div id=\"df-593656b5-680b-48d9-a95a-7a0f6357ae74\">\n",
              "      <button class=\"colab-df-quickchart\" onclick=\"quickchart('df-593656b5-680b-48d9-a95a-7a0f6357ae74')\"\n",
              "              title=\"Suggest charts.\"\n",
              "              style=\"display:none;\">\n",
              "\n",
              "<svg xmlns=\"http://www.w3.org/2000/svg\" height=\"24px\"viewBox=\"0 0 24 24\"\n",
              "     width=\"24px\">\n",
              "    <g>\n",
              "        <path d=\"M19 3H5c-1.1 0-2 .9-2 2v14c0 1.1.9 2 2 2h14c1.1 0 2-.9 2-2V5c0-1.1-.9-2-2-2zM9 17H7v-7h2v7zm4 0h-2V7h2v10zm4 0h-2v-4h2v4z\"/>\n",
              "    </g>\n",
              "</svg>\n",
              "      </button>\n",
              "    </div>\n",
              "\n",
              "<style>\n",
              "  .colab-df-quickchart {\n",
              "    background-color: #E8F0FE;\n",
              "    border: none;\n",
              "    border-radius: 50%;\n",
              "    cursor: pointer;\n",
              "    display: none;\n",
              "    fill: #1967D2;\n",
              "    height: 32px;\n",
              "    padding: 0 0 0 0;\n",
              "    width: 32px;\n",
              "  }\n",
              "\n",
              "  .colab-df-quickchart:hover {\n",
              "    background-color: #E2EBFA;\n",
              "    box-shadow: 0px 1px 2px rgba(60, 64, 67, 0.3), 0px 1px 3px 1px rgba(60, 64, 67, 0.15);\n",
              "    fill: #174EA6;\n",
              "  }\n",
              "\n",
              "  [theme=dark] .colab-df-quickchart {\n",
              "    background-color: #3B4455;\n",
              "    fill: #D2E3FC;\n",
              "  }\n",
              "\n",
              "  [theme=dark] .colab-df-quickchart:hover {\n",
              "    background-color: #434B5C;\n",
              "    box-shadow: 0px 1px 3px 1px rgba(0, 0, 0, 0.15);\n",
              "    filter: drop-shadow(0px 1px 2px rgba(0, 0, 0, 0.3));\n",
              "    fill: #FFFFFF;\n",
              "  }\n",
              "</style>\n",
              "\n",
              "    <script>\n",
              "      async function quickchart(key) {\n",
              "        const containerElement = document.querySelector('#' + key);\n",
              "        const charts = await google.colab.kernel.invokeFunction(\n",
              "            'suggestCharts', [key], {});\n",
              "      }\n",
              "    </script>\n",
              "\n",
              "      <script>\n",
              "\n",
              "function displayQuickchartButton(domScope) {\n",
              "  let quickchartButtonEl =\n",
              "    domScope.querySelector('#df-593656b5-680b-48d9-a95a-7a0f6357ae74 button.colab-df-quickchart');\n",
              "  quickchartButtonEl.style.display =\n",
              "    google.colab.kernel.accessAllowed ? 'block' : 'none';\n",
              "}\n",
              "\n",
              "        displayQuickchartButton(document);\n",
              "      </script>\n",
              "      <style>\n",
              "    .colab-df-container {\n",
              "      display:flex;\n",
              "      flex-wrap:wrap;\n",
              "      gap: 12px;\n",
              "    }\n",
              "\n",
              "    .colab-df-convert {\n",
              "      background-color: #E8F0FE;\n",
              "      border: none;\n",
              "      border-radius: 50%;\n",
              "      cursor: pointer;\n",
              "      display: none;\n",
              "      fill: #1967D2;\n",
              "      height: 32px;\n",
              "      padding: 0 0 0 0;\n",
              "      width: 32px;\n",
              "    }\n",
              "\n",
              "    .colab-df-convert:hover {\n",
              "      background-color: #E2EBFA;\n",
              "      box-shadow: 0px 1px 2px rgba(60, 64, 67, 0.3), 0px 1px 3px 1px rgba(60, 64, 67, 0.15);\n",
              "      fill: #174EA6;\n",
              "    }\n",
              "\n",
              "    [theme=dark] .colab-df-convert {\n",
              "      background-color: #3B4455;\n",
              "      fill: #D2E3FC;\n",
              "    }\n",
              "\n",
              "    [theme=dark] .colab-df-convert:hover {\n",
              "      background-color: #434B5C;\n",
              "      box-shadow: 0px 1px 3px 1px rgba(0, 0, 0, 0.15);\n",
              "      filter: drop-shadow(0px 1px 2px rgba(0, 0, 0, 0.3));\n",
              "      fill: #FFFFFF;\n",
              "    }\n",
              "  </style>\n",
              "\n",
              "      <script>\n",
              "        const buttonEl =\n",
              "          document.querySelector('#df-8746eebe-24f5-46d9-b8ca-d6ba97e3e37d button.colab-df-convert');\n",
              "        buttonEl.style.display =\n",
              "          google.colab.kernel.accessAllowed ? 'block' : 'none';\n",
              "\n",
              "        async function convertToInteractive(key) {\n",
              "          const element = document.querySelector('#df-8746eebe-24f5-46d9-b8ca-d6ba97e3e37d');\n",
              "          const dataTable =\n",
              "            await google.colab.kernel.invokeFunction('convertToInteractive',\n",
              "                                                     [key], {});\n",
              "          if (!dataTable) return;\n",
              "\n",
              "          const docLinkHtml = 'Like what you see? Visit the ' +\n",
              "            '<a target=\"_blank\" href=https://colab.research.google.com/notebooks/data_table.ipynb>data table notebook</a>'\n",
              "            + ' to learn more about interactive tables.';\n",
              "          element.innerHTML = '';\n",
              "          dataTable['output_type'] = 'display_data';\n",
              "          await google.colab.output.renderOutput(dataTable, element);\n",
              "          const docLink = document.createElement('div');\n",
              "          docLink.innerHTML = docLinkHtml;\n",
              "          element.appendChild(docLink);\n",
              "        }\n",
              "      </script>\n",
              "    </div>\n",
              "  </div>\n"
            ]
          },
          "metadata": {},
          "execution_count": 8
        }
      ]
    },
    {
      "cell_type": "code",
      "source": [
        "# 3.1\n",
        "mobile_price.shape\n",
        "mobile_price.dtypes"
      ],
      "metadata": {
        "colab": {
          "base_uri": "https://localhost:8080/"
        },
        "id": "T7GBb9CuZSFa",
        "outputId": "6dcafb81-b7e1-46d6-de67-b2abbbb541d3"
      },
      "execution_count": 9,
      "outputs": [
        {
          "output_type": "execute_result",
          "data": {
            "text/plain": [
              "(2000, 21)"
            ]
          },
          "metadata": {},
          "execution_count": 9
        },
        {
          "output_type": "execute_result",
          "data": {
            "text/plain": [
              "battery_power      int64\n",
              "blue               int64\n",
              "clock_speed      float64\n",
              "dual_sim           int64\n",
              "fc                 int64\n",
              "four_g             int64\n",
              "int_memory         int64\n",
              "m_dep            float64\n",
              "mobile_wt          int64\n",
              "n_cores            int64\n",
              "pc                 int64\n",
              "px_height          int64\n",
              "px_width           int64\n",
              "ram                int64\n",
              "sc_h               int64\n",
              "sc_w               int64\n",
              "talk_time          int64\n",
              "three_g            int64\n",
              "touch_screen       int64\n",
              "wifi               int64\n",
              "price_range        int64\n",
              "dtype: object"
            ]
          },
          "metadata": {},
          "execution_count": 9
        }
      ]
    },
    {
      "cell_type": "code",
      "source": [
        "# 3.2 Get target and predictors:\n",
        "y = mobile_price.pop(\"mobile_wt\")\n",
        "X = mobile_price"
      ],
      "metadata": {
        "id": "QyuDnG9bZWUk"
      },
      "execution_count": 10,
      "outputs": []
    },
    {
      "cell_type": "code",
      "source": [
        "# 4.0 Build model:\n",
        "\n",
        "model = tf.keras.Sequential()"
      ],
      "metadata": {
        "id": "frXZcp7wZlCn"
      },
      "execution_count": 11,
      "outputs": []
    },
    {
      "cell_type": "code",
      "source": [
        "# 4.1\n",
        "model.add(layers.Input( shape = (20,) ) )"
      ],
      "metadata": {
        "id": "jNH28HRzZoVl"
      },
      "execution_count": 12,
      "outputs": []
    },
    {
      "cell_type": "code",
      "source": [
        "model.add(layers.Dense(20,activation='relu') )"
      ],
      "metadata": {
        "id": "hMvqnIiTZwgb"
      },
      "execution_count": 13,
      "outputs": []
    },
    {
      "cell_type": "code",
      "source": [
        "model.add(layers.Dense(880,activation='relu') )"
      ],
      "metadata": {
        "id": "QdhR31mKZ1iD"
      },
      "execution_count": 14,
      "outputs": []
    },
    {
      "cell_type": "code",
      "source": [
        "# 4.2\n",
        "model.add(layers.Dense(1))"
      ],
      "metadata": {
        "id": "hn1rqwPMaqNy"
      },
      "execution_count": 15,
      "outputs": []
    },
    {
      "cell_type": "code",
      "source": [
        "#4.3 Compile\n",
        "model.compile( loss = \"mae\")"
      ],
      "metadata": {
        "id": "FoVujPy3a20h"
      },
      "execution_count": 16,
      "outputs": []
    },
    {
      "cell_type": "code",
      "source": [
        "# 4.4 Train\n",
        "model.fit(X,y, epochs = 100 )"
      ],
      "metadata": {
        "colab": {
          "base_uri": "https://localhost:8080/"
        },
        "id": "VwrU1mm5a8gT",
        "outputId": "b8884edd-0818-49e3-fd21-2ece02102bae"
      },
      "execution_count": 17,
      "outputs": [
        {
          "output_type": "stream",
          "name": "stdout",
          "text": [
            "Epoch 1/100\n",
            "63/63 [==============================] - 1s 1ms/step - loss: 59.9229\n",
            "Epoch 2/100\n",
            "63/63 [==============================] - 0s 1ms/step - loss: 46.4721\n",
            "Epoch 3/100\n",
            "63/63 [==============================] - 0s 1ms/step - loss: 43.6524\n",
            "Epoch 4/100\n",
            "63/63 [==============================] - 0s 1ms/step - loss: 40.2341\n",
            "Epoch 5/100\n",
            "63/63 [==============================] - 0s 1ms/step - loss: 40.2271\n",
            "Epoch 6/100\n",
            "63/63 [==============================] - 0s 1ms/step - loss: 38.2445\n",
            "Epoch 7/100\n",
            "63/63 [==============================] - 0s 1ms/step - loss: 38.3852\n",
            "Epoch 8/100\n",
            "63/63 [==============================] - 0s 1ms/step - loss: 38.7288\n",
            "Epoch 9/100\n",
            "63/63 [==============================] - 0s 2ms/step - loss: 37.5325\n",
            "Epoch 10/100\n",
            "63/63 [==============================] - 0s 1ms/step - loss: 37.5836\n",
            "Epoch 11/100\n",
            "63/63 [==============================] - 0s 1ms/step - loss: 37.2219\n",
            "Epoch 12/100\n",
            "63/63 [==============================] - 0s 1ms/step - loss: 36.9800\n",
            "Epoch 13/100\n",
            "63/63 [==============================] - 0s 1ms/step - loss: 36.8658\n",
            "Epoch 14/100\n",
            "63/63 [==============================] - 0s 1ms/step - loss: 36.7557\n",
            "Epoch 15/100\n",
            "63/63 [==============================] - 0s 1ms/step - loss: 36.2652\n",
            "Epoch 16/100\n",
            "63/63 [==============================] - 0s 1ms/step - loss: 36.6518\n",
            "Epoch 17/100\n",
            "63/63 [==============================] - 0s 1ms/step - loss: 36.0499\n",
            "Epoch 18/100\n",
            "63/63 [==============================] - 0s 1ms/step - loss: 36.2850\n",
            "Epoch 19/100\n",
            "63/63 [==============================] - 0s 1ms/step - loss: 36.0801\n",
            "Epoch 20/100\n",
            "63/63 [==============================] - 0s 1ms/step - loss: 35.9533\n",
            "Epoch 21/100\n",
            "63/63 [==============================] - 0s 1ms/step - loss: 35.9910\n",
            "Epoch 22/100\n",
            "63/63 [==============================] - 0s 1ms/step - loss: 35.9260\n",
            "Epoch 23/100\n",
            "63/63 [==============================] - 0s 1ms/step - loss: 35.5898\n",
            "Epoch 24/100\n",
            "63/63 [==============================] - 0s 1ms/step - loss: 35.4133\n",
            "Epoch 25/100\n",
            "63/63 [==============================] - 0s 1ms/step - loss: 35.7567\n",
            "Epoch 26/100\n",
            "63/63 [==============================] - 0s 1ms/step - loss: 35.4157\n",
            "Epoch 27/100\n",
            "63/63 [==============================] - 0s 1ms/step - loss: 34.9516\n",
            "Epoch 28/100\n",
            "63/63 [==============================] - 0s 1ms/step - loss: 35.0460\n",
            "Epoch 29/100\n",
            "63/63 [==============================] - 0s 1ms/step - loss: 34.9406\n",
            "Epoch 30/100\n",
            "63/63 [==============================] - 0s 1ms/step - loss: 34.5057\n",
            "Epoch 31/100\n",
            "63/63 [==============================] - 0s 1ms/step - loss: 35.3193\n",
            "Epoch 32/100\n",
            "63/63 [==============================] - 0s 1ms/step - loss: 34.5632\n",
            "Epoch 33/100\n",
            "63/63 [==============================] - 0s 1ms/step - loss: 34.7280\n",
            "Epoch 34/100\n",
            "63/63 [==============================] - 0s 1ms/step - loss: 34.7886\n",
            "Epoch 35/100\n",
            "63/63 [==============================] - 0s 1ms/step - loss: 34.4559\n",
            "Epoch 36/100\n",
            "63/63 [==============================] - 0s 1ms/step - loss: 34.3418\n",
            "Epoch 37/100\n",
            "63/63 [==============================] - 0s 1ms/step - loss: 34.4427\n",
            "Epoch 38/100\n",
            "63/63 [==============================] - 0s 1ms/step - loss: 34.0462\n",
            "Epoch 39/100\n",
            "63/63 [==============================] - 0s 1ms/step - loss: 34.3012\n",
            "Epoch 40/100\n",
            "63/63 [==============================] - 0s 1ms/step - loss: 34.1598\n",
            "Epoch 41/100\n",
            "63/63 [==============================] - 0s 1ms/step - loss: 33.9678\n",
            "Epoch 42/100\n",
            "63/63 [==============================] - 0s 1ms/step - loss: 34.4301\n",
            "Epoch 43/100\n",
            "63/63 [==============================] - 0s 1ms/step - loss: 33.8595\n",
            "Epoch 44/100\n",
            "63/63 [==============================] - 0s 1ms/step - loss: 33.5127\n",
            "Epoch 45/100\n",
            "63/63 [==============================] - 0s 1ms/step - loss: 33.8989\n",
            "Epoch 46/100\n",
            "63/63 [==============================] - 0s 1ms/step - loss: 33.6654\n",
            "Epoch 47/100\n",
            "63/63 [==============================] - 0s 1ms/step - loss: 33.4138\n",
            "Epoch 48/100\n",
            "63/63 [==============================] - 0s 1ms/step - loss: 33.2365\n",
            "Epoch 49/100\n",
            "63/63 [==============================] - 0s 1ms/step - loss: 33.4462\n",
            "Epoch 50/100\n",
            "63/63 [==============================] - 0s 1ms/step - loss: 33.3374\n",
            "Epoch 51/100\n",
            "63/63 [==============================] - 0s 1ms/step - loss: 33.2181\n",
            "Epoch 52/100\n",
            "63/63 [==============================] - 0s 1ms/step - loss: 32.9816\n",
            "Epoch 53/100\n",
            "63/63 [==============================] - 0s 2ms/step - loss: 33.2489\n",
            "Epoch 54/100\n",
            "63/63 [==============================] - 0s 1ms/step - loss: 33.0761\n",
            "Epoch 55/100\n",
            "63/63 [==============================] - 0s 2ms/step - loss: 33.0046\n",
            "Epoch 56/100\n",
            "63/63 [==============================] - 0s 2ms/step - loss: 33.1850\n",
            "Epoch 57/100\n",
            "63/63 [==============================] - 0s 2ms/step - loss: 32.8295\n",
            "Epoch 58/100\n",
            "63/63 [==============================] - 0s 1ms/step - loss: 32.8064\n",
            "Epoch 59/100\n",
            "63/63 [==============================] - 0s 2ms/step - loss: 32.4131\n",
            "Epoch 60/100\n",
            "63/63 [==============================] - 0s 1ms/step - loss: 32.8556\n",
            "Epoch 61/100\n",
            "63/63 [==============================] - 0s 2ms/step - loss: 32.9608\n",
            "Epoch 62/100\n",
            "63/63 [==============================] - 0s 1ms/step - loss: 32.4028\n",
            "Epoch 63/100\n",
            "63/63 [==============================] - 0s 1ms/step - loss: 32.5132\n",
            "Epoch 64/100\n",
            "63/63 [==============================] - 0s 2ms/step - loss: 32.7579\n",
            "Epoch 65/100\n",
            "63/63 [==============================] - 0s 2ms/step - loss: 32.4683\n",
            "Epoch 66/100\n",
            "63/63 [==============================] - 0s 2ms/step - loss: 31.9262\n",
            "Epoch 67/100\n",
            "63/63 [==============================] - 0s 1ms/step - loss: 32.7840\n",
            "Epoch 68/100\n",
            "63/63 [==============================] - 0s 2ms/step - loss: 32.1572\n",
            "Epoch 69/100\n",
            "63/63 [==============================] - 0s 1ms/step - loss: 32.2742\n",
            "Epoch 70/100\n",
            "63/63 [==============================] - 0s 2ms/step - loss: 32.3644\n",
            "Epoch 71/100\n",
            "63/63 [==============================] - 0s 2ms/step - loss: 32.2981\n",
            "Epoch 72/100\n",
            "63/63 [==============================] - 0s 2ms/step - loss: 32.3815\n",
            "Epoch 73/100\n",
            "63/63 [==============================] - 0s 2ms/step - loss: 31.8411\n",
            "Epoch 74/100\n",
            "63/63 [==============================] - 0s 1ms/step - loss: 31.9012\n",
            "Epoch 75/100\n",
            "63/63 [==============================] - 0s 1ms/step - loss: 32.0739\n",
            "Epoch 76/100\n",
            "63/63 [==============================] - 0s 2ms/step - loss: 31.8194\n",
            "Epoch 77/100\n",
            "63/63 [==============================] - 0s 1ms/step - loss: 32.0717\n",
            "Epoch 78/100\n",
            "63/63 [==============================] - 0s 2ms/step - loss: 32.0023\n",
            "Epoch 79/100\n",
            "63/63 [==============================] - 0s 2ms/step - loss: 31.9358\n",
            "Epoch 80/100\n",
            "63/63 [==============================] - 0s 2ms/step - loss: 31.7011\n",
            "Epoch 81/100\n",
            "63/63 [==============================] - 0s 2ms/step - loss: 31.8719\n",
            "Epoch 82/100\n",
            "63/63 [==============================] - 0s 2ms/step - loss: 31.7833\n",
            "Epoch 83/100\n",
            "63/63 [==============================] - 0s 1ms/step - loss: 31.7167\n",
            "Epoch 84/100\n",
            "63/63 [==============================] - 0s 1ms/step - loss: 31.7131\n",
            "Epoch 85/100\n",
            "63/63 [==============================] - 0s 1ms/step - loss: 31.8237\n",
            "Epoch 86/100\n",
            "63/63 [==============================] - 0s 1ms/step - loss: 31.6676\n",
            "Epoch 87/100\n",
            "63/63 [==============================] - 0s 1ms/step - loss: 31.2746\n",
            "Epoch 88/100\n",
            "63/63 [==============================] - 0s 1ms/step - loss: 31.5790\n",
            "Epoch 89/100\n",
            "63/63 [==============================] - 0s 1ms/step - loss: 31.4877\n",
            "Epoch 90/100\n",
            "63/63 [==============================] - 0s 1ms/step - loss: 31.1793\n",
            "Epoch 91/100\n",
            "63/63 [==============================] - 0s 1ms/step - loss: 31.4923\n",
            "Epoch 92/100\n",
            "63/63 [==============================] - 0s 1ms/step - loss: 31.2762\n",
            "Epoch 93/100\n",
            "63/63 [==============================] - 0s 1ms/step - loss: 31.4877\n",
            "Epoch 94/100\n",
            "63/63 [==============================] - 0s 1ms/step - loss: 31.3398\n",
            "Epoch 95/100\n",
            "63/63 [==============================] - 0s 1ms/step - loss: 31.0862\n",
            "Epoch 96/100\n",
            "63/63 [==============================] - 0s 1ms/step - loss: 31.4778\n",
            "Epoch 97/100\n",
            "63/63 [==============================] - 0s 1ms/step - loss: 31.2498\n",
            "Epoch 98/100\n",
            "63/63 [==============================] - 0s 1ms/step - loss: 31.1275\n",
            "Epoch 99/100\n",
            "63/63 [==============================] - 0s 1ms/step - loss: 31.3382\n",
            "Epoch 100/100\n",
            "63/63 [==============================] - 0s 1ms/step - loss: 30.9756\n"
          ]
        },
        {
          "output_type": "execute_result",
          "data": {
            "text/plain": [
              "<keras.callbacks.History at 0x7af84cbf22f0>"
            ]
          },
          "metadata": {},
          "execution_count": 17
        }
      ]
    },
    {
      "cell_type": "code",
      "source": [
        "# 5.0 Predict\n",
        "pred = model.predict(X)"
      ],
      "metadata": {
        "id": "RjcW2Nd9bAgS",
        "colab": {
          "base_uri": "https://localhost:8080/"
        },
        "outputId": "7b36ac2c-d19d-452e-956c-3bd75ffb623e"
      },
      "execution_count": 18,
      "outputs": [
        {
          "output_type": "stream",
          "name": "stdout",
          "text": [
            "63/63 [==============================] - 0s 857us/step\n"
          ]
        }
      ]
    },
    {
      "cell_type": "code",
      "source": [
        "# 5.1 Round up decimal places\n",
        "pred = np.round(pred)"
      ],
      "metadata": {
        "id": "_B3zoKRhM2_I"
      },
      "execution_count": 19,
      "outputs": []
    },
    {
      "cell_type": "code",
      "source": [
        "from tensorflow.keras.utils import plot_model"
      ],
      "metadata": {
        "id": "d1T_-qKUNusw"
      },
      "execution_count": 21,
      "outputs": []
    },
    {
      "cell_type": "code",
      "source": [
        "plot_model(model,show_shapes=True)"
      ],
      "metadata": {
        "colab": {
          "base_uri": "https://localhost:8080/",
          "height": 422
        },
        "id": "uOkaiXtSNzd9",
        "outputId": "424203ec-a073-40e3-ca33-ab9e3ac47f83"
      },
      "execution_count": 22,
      "outputs": [
        {
          "output_type": "execute_result",
          "data": {
            "image/png": "[encoded data removed]",
            "text/plain": [
              "<IPython.core.display.Image object>"
            ]
          },
          "metadata": {},
          "execution_count": 22
        }
      ]
    },
    {
      "cell_type": "code",
      "source": [],
      "metadata": {
        "id": "CWTpLGw6OUGF"
      },
      "execution_count": null,
      "outputs": []
    }
  ]
}